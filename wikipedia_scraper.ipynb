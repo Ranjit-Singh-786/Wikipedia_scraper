{
 "cells": [
  {
   "cell_type": "code",
   "execution_count": 1,
   "id": "d48a7b8a",
   "metadata": {},
   "outputs": [],
   "source": [
    "import pandas as pd\n",
    "import numpy as np\n",
    "import bs4 as bs\n",
    "import urllib"
   ]
  },
  {
   "cell_type": "code",
   "execution_count": 3,
   "id": "64c29deb",
   "metadata": {},
   "outputs": [],
   "source": [
    "source = urllib.request.urlopen(\"https://en.wikipedia.org/wiki/Climate_change\")"
   ]
  },
  {
   "cell_type": "code",
   "execution_count": 5,
   "id": "75ceb4c6",
   "metadata": {},
   "outputs": [],
   "source": [
    "soup = bs.BeautifulSoup(source,'html5')"
   ]
  },
  {
   "cell_type": "code",
   "execution_count": 74,
   "id": "f6df7f5f",
   "metadata": {},
   "outputs": [],
   "source": [
    "para = soup.find_all('p')"
   ]
  },
  {
   "cell_type": "code",
   "execution_count": 78,
   "id": "c7534761",
   "metadata": {},
   "outputs": [],
   "source": [
    "paragraph = ' '\n",
    "for i in para:\n",
    "    paragraph += i.text"
   ]
  },
  {
   "cell_type": "code",
   "execution_count": 81,
   "id": "adf5481a",
   "metadata": {},
   "outputs": [
    {
     "data": {
      "text/plain": [
       "' \\n\\n\\nIn common usage, climate change describes global warming—the ongoing increase in global average temperature—and its effects on Earth\\'s climate system. Climate change in a broader sense also includes previous long-term changes to Earth\\'s climate. The current rise in global average temperature is more rapid than previous changes, and is primarily caused by humans burning fossil fuels.[2][3] Fossil fuel use, deforestation, and some agricultural and industrial practices increase greenhouse gases, notably carbon dioxide and methane.[4] Greenhouse gases absorb some of the heat that the Earth radiates after it warms from sunlight. Larger amounts of these gases trap more heat in Earth\\'s lower atmosphere, causing global warming.\\nDue to climate change, deserts are expanding, while heat waves and wildfires are becoming more common.[5] Increased warming in the Arctic has contributed to melting permafrost, glacial retreat and sea ice loss.[6] Higher temperatures are also causing more intense storms, droughts, and other weather extremes.[7] Rapid environmental change in mountains, coral reefs, and the Arctic is forcing many species to relocate or become extinct.[8] Even if efforts to minimise future warming are successful, some effects will continue for centuries. These include ocean heating, ocean acidification and sea level rise.[9]\\nClimate change threatens people with food and water scarcity, increased flooding, extreme heat, more disease, and economic loss. Human migration and conflict can also be a result.[10] The World Health Organization (WHO) calls climate change the greatest threat to global health in the 21st century.[11] Communities may adapt to climate change through efforts like coastline protection or expanding access to air conditioning, but some impacts are unavoidable. Poorer countries are responsible for a small share of global emissions, yet they have the least ability to adapt and are most vulnerable to climate change.\\nMany climate change impacts are already felt at the current 1.2\\xa0°C (2.2\\xa0°F) level of warming. Additional warming will increase these impacts and can trigger tipping points, such as the melting of the Greenland ice sheet.[12] Under the 2015 Paris Agreement, nations collectively agreed to keep warming \"well under 2\\xa0°C\". However, with pledges made under the Agreement, global warming would still reach about 2.7\\xa0°C (4.9\\xa0°F) by the end of the century.[13] Limiting warming to 1.5\\xa0°C will require halving emissions by 2030 and achieving net'"
      ]
     },
     "execution_count": 81,
     "metadata": {},
     "output_type": "execute_result"
    }
   ],
   "source": [
    "paragraph[0:2500]"
   ]
  },
  {
   "cell_type": "code",
   "execution_count": 54,
   "id": "6fcdb81f",
   "metadata": {},
   "outputs": [
    {
     "name": "stdout",
     "output_type": "stream",
     "text": [
      "Climate change\n"
     ]
    }
   ],
   "source": [
    "import requests\n",
    "from bs4 import BeautifulSoup\n",
    "\n",
    "url = \"https://en.wikipedia.org/wiki/global warming\"\n",
    "\n",
    "response = requests.get(url)\n",
    "soup = BeautifulSoup(response.text, \"html.parser\")\n",
    "\n",
    "# Scraping the page title\n",
    "page_title = soup.find(\"h1\", class_=\"firstHeading\").text\n",
    "print(page_title)\n",
    "\n",
    "\n"
   ]
  },
  {
   "cell_type": "code",
   "execution_count": 69,
   "id": "28f5f971",
   "metadata": {},
   "outputs": [],
   "source": [
    "imga = soup.find_all(\"a\", class_=\"image\")"
   ]
  },
  {
   "cell_type": "code",
   "execution_count": 71,
   "id": "e8ec8aee",
   "metadata": {},
   "outputs": [
    {
     "data": {
      "text/plain": [
       "42"
      ]
     },
     "execution_count": 71,
     "metadata": {},
     "output_type": "execute_result"
    }
   ],
   "source": []
  },
  {
   "cell_type": "code",
   "execution_count": 13,
   "id": "21909db3",
   "metadata": {},
   "outputs": [],
   "source": [
    "soc"
   ]
  },
  {
   "cell_type": "code",
   "execution_count": 41,
   "id": "71249392",
   "metadata": {},
   "outputs": [],
   "source": [
    "image = soup.find_all('img')\n"
   ]
  },
  {
   "cell_type": "code",
   "execution_count": 43,
   "id": "8af7e16f",
   "metadata": {},
   "outputs": [
    {
     "data": {
      "text/plain": [
       "<img alt=\"This is a good article. Click here for more information.\" data-file-height=\"185\" data-file-width=\"180\" decoding=\"async\" height=\"20\" src=\"//upload.wikimedia.org/wikipedia/en/thumb/9/94/Symbol_support_vote.svg/19px-Symbol_support_vote.svg.png\" srcset=\"//upload.wikimedia.org/wikipedia/en/thumb/9/94/Symbol_support_vote.svg/29px-Symbol_support_vote.svg.png 1.5x, //upload.wikimedia.org/wikipedia/en/thumb/9/94/Symbol_support_vote.svg/39px-Symbol_support_vote.svg.png 2x\" width=\"19\"/>"
      ]
     },
     "execution_count": 43,
     "metadata": {},
     "output_type": "execute_result"
    }
   ],
   "source": [
    "image[0]"
   ]
  },
  {
   "cell_type": "code",
   "execution_count": 67,
   "id": "aac0f061",
   "metadata": {},
   "outputs": [],
   "source": [
    "a ='mohan'"
   ]
  },
  {
   "cell_type": "code",
   "execution_count": 68,
   "id": "bca6bf91",
   "metadata": {},
   "outputs": [
    {
     "data": {
      "text/plain": [
       "5"
      ]
     },
     "execution_count": 68,
     "metadata": {},
     "output_type": "execute_result"
    }
   ],
   "source": [
    "len(a)"
   ]
  }
 ],
 "metadata": {
  "kernelspec": {
   "display_name": "Python 3 (ipykernel)",
   "language": "python",
   "name": "python3"
  },
  "language_info": {
   "codemirror_mode": {
    "name": "ipython",
    "version": 3
   },
   "file_extension": ".py",
   "mimetype": "text/x-python",
   "name": "python",
   "nbconvert_exporter": "python",
   "pygments_lexer": "ipython3",
   "version": "3.10.6"
  }
 },
 "nbformat": 4,
 "nbformat_minor": 5
}
